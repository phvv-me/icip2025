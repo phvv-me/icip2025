{
 "cells": [
  {
   "cell_type": "markdown",
   "metadata": {},
   "source": [
    "# Multi Language Jailbreak Performance\n",
    "\n",
    "- translate safebench.csv to 5 - 8 languanges\n",
    "- run comparison and make barplot"
   ]
  },
  {
   "cell_type": "code",
   "execution_count": 1,
   "metadata": {},
   "outputs": [],
   "source": [
    "from frames.data.figstep import FigstepDataset, QueryType\n",
    "from frames.utils.translator import MultiTranslator"
   ]
  },
  {
   "cell_type": "code",
   "execution_count": 2,
   "metadata": {},
   "outputs": [],
   "source": [
    "translator = MultiTranslator(batch_size=25)\n",
    "\n",
    "TARGET_LANGUAGES = (\"mr\", \"hi\", \"id\", \"ja\", \"pt\", \"es\", \"de\")"
   ]
  },
  {
   "cell_type": "code",
   "execution_count": 4,
   "metadata": {},
   "outputs": [
    {
     "name": "stderr",
     "output_type": "stream",
     "text": [
      "Loading Dataset: 100%|██████████| 500/500 [00:00<00:00, 41276.02it/s]\n",
      "\u001b[32m2025-01-12 09:01:52.478\u001b[0m | \u001b[1mINFO    \u001b[0m | \u001b[36mframes.utils.translator\u001b[0m:\u001b[36m_translate_to_language\u001b[0m:\u001b[36m49\u001b[0m - \u001b[1mTranslating 500 sentences to mr\u001b[0m\n",
      "→ mr:  10%|█         | 50/500 [00:00<00:03, 132.60it/s]"
     ]
    },
    {
     "name": "stderr",
     "output_type": "stream",
     "text": [
      "→ mr: 100%|██████████| 500/500 [00:03<00:00, 129.03it/s]\n",
      "\u001b[32m2025-01-12 09:01:56.354\u001b[0m | \u001b[1mINFO    \u001b[0m | \u001b[36mframes.utils.translator\u001b[0m:\u001b[36m_translate_to_language\u001b[0m:\u001b[36m49\u001b[0m - \u001b[1mTranslating 500 sentences to hi\u001b[0m\n",
      "→ hi: 100%|██████████| 500/500 [00:04<00:00, 111.08it/s]\n",
      "\u001b[32m2025-01-12 09:02:00.857\u001b[0m | \u001b[1mINFO    \u001b[0m | \u001b[36mframes.utils.translator\u001b[0m:\u001b[36m_translate_to_language\u001b[0m:\u001b[36m49\u001b[0m - \u001b[1mTranslating 500 sentences to id\u001b[0m\n",
      "→ id: 100%|██████████| 500/500 [00:03<00:00, 130.92it/s]\n",
      "\u001b[32m2025-01-12 09:02:04.677\u001b[0m | \u001b[1mINFO    \u001b[0m | \u001b[36mframes.utils.translator\u001b[0m:\u001b[36m_translate_to_language\u001b[0m:\u001b[36m49\u001b[0m - \u001b[1mTranslating 500 sentences to ja\u001b[0m\n",
      "→ ja: 100%|██████████| 500/500 [00:03<00:00, 126.77it/s]\n",
      "\u001b[32m2025-01-12 09:02:08.622\u001b[0m | \u001b[1mINFO    \u001b[0m | \u001b[36mframes.utils.translator\u001b[0m:\u001b[36m_translate_to_language\u001b[0m:\u001b[36m49\u001b[0m - \u001b[1mTranslating 500 sentences to pt\u001b[0m\n",
      "→ pt: 100%|██████████| 500/500 [00:03<00:00, 136.51it/s]\n",
      "\u001b[32m2025-01-12 09:02:12.286\u001b[0m | \u001b[1mINFO    \u001b[0m | \u001b[36mframes.utils.translator\u001b[0m:\u001b[36m_translate_to_language\u001b[0m:\u001b[36m49\u001b[0m - \u001b[1mTranslating 500 sentences to es\u001b[0m\n",
      "→ es: 100%|██████████| 500/500 [00:03<00:00, 140.84it/s]\n",
      "\u001b[32m2025-01-12 09:02:15.837\u001b[0m | \u001b[1mINFO    \u001b[0m | \u001b[36mframes.utils.translator\u001b[0m:\u001b[36m_translate_to_language\u001b[0m:\u001b[36m49\u001b[0m - \u001b[1mTranslating 500 sentences to de\u001b[0m\n",
      "→ de: 100%|██████████| 500/500 [00:03<00:00, 136.12it/s]\n"
     ]
    }
   ],
   "source": [
    "instructions = FigstepDataset(query_type=QueryType.instruction).to_list(\n",
    "    return_flat_list=True\n",
    ")\n",
    "\n",
    "translated_instructions = await translator.translate(instructions, TARGET_LANGUAGES)\n",
    "translated_instructions.to_excel(\"translated_instructions.xlsx\")"
   ]
  }
 ],
 "metadata": {
  "kernelspec": {
   "display_name": ".venv",
   "language": "python",
   "name": "python3"
  },
  "language_info": {
   "codemirror_mode": {
    "name": "ipython",
    "version": 3
   },
   "file_extension": ".py",
   "mimetype": "text/x-python",
   "name": "python",
   "nbconvert_exporter": "python",
   "pygments_lexer": "ipython3",
   "version": "3.11.10"
  }
 },
 "nbformat": 4,
 "nbformat_minor": 2
}
