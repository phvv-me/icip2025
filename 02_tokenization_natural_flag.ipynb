{
 "cells": [
  {
   "cell_type": "markdown",
   "metadata": {},
   "source": [
    "## Evaluation of Words as Natural Flags\n",
    "\n",
    "The flag representation hyothesis consists of assuming words are naturally represented as flags.\n",
    "\n",
    "One way to verify this claim is by checking if the matrix representation of a word is naturally orthogonal. We can measure this by computing the ratio between the matrix rank and the number of vectors in the matrix.\n",
    "\n",
    "In this experiment, we show words can be naturally orthogonal, although this is an approximation because the longer the word becomes (higher token count), the less likely it is to be orthogonal. However, since most words have a low token count, the average word orthogonality is quite high, which is a good indicator that words are naturally represented as flags."
   ]
  },
  {
   "cell_type": "code",
   "execution_count": 1,
   "metadata": {},
   "outputs": [
    {
     "name": "stderr",
     "output_type": "stream",
     "text": [
      "/home/pedro/Documents/flag-representation-hypothesis/.venv/lib/python3.11/site-packages/tqdm/auto.py:21: TqdmWarning: IProgress not found. Please update jupyter and ipywidgets. See https://ipywidgets.readthedocs.io/en/stable/user_install.html\n",
      "  from .autonotebook import tqdm as notebook_tqdm\n"
     ]
    }
   ],
   "source": [
    "import matplotlib.lines as mlines\n",
    "import matplotlib.pyplot as plt\n",
    "import pandas as pd\n",
    "import seaborn as sns\n",
    "\n",
    "from flags.lrh import FlagUnembeddingRepresentation\n",
    "from flags.nlp.synsets import SupportedLanguages\n",
    "from flags.utils.memory import gc_cuda\n",
    "from flags.utils.settings import load_models\n",
    "\n",
    "sns.set_style(\"whitegrid\")"
   ]
  },
  {
   "cell_type": "code",
   "execution_count": null,
   "metadata": {},
   "outputs": [],
   "source": [
    "MODELS = load_models()\n",
    "\n",
    "X = \"token count\"\n",
    "X_MAX = 16\n",
    "\n",
    "HUE1 = \"Model Family\"\n",
    "\n",
    "HUE2 = \"Model\"\n",
    "Y = \"Relative Rank (Matrix Rank / Num Tokens)\""
   ]
  },
  {
   "cell_type": "code",
   "execution_count": null,
   "metadata": {},
   "outputs": [],
   "source": [
    "def get_tokenization_data(**kwargs):\n",
    "    with gc_cuda():\n",
    "        fur = FlagUnembeddingRepresentation.from_model_id(\n",
    "            language_codes=SupportedLanguages.Llama,\n",
    "            synsets_kwargs=dict(variations=None),\n",
    "            **kwargs,\n",
    "        )\n",
    "        cols = {HUE1: fur.model.family, HUE2: str(fur.model)}\n",
    "        df = (\n",
    "            fur.data.get_dataframe(fur.model.tokenizer, max_token_count=X_MAX)\n",
    "            .assign(**cols)\n",
    "            .to_pandas()\n",
    "        )\n",
    "        df[Y] = (\n",
    "            fur.compute_orthogonality(df[\"tokens\"], batch_size=1 << 12).cpu().numpy()\n",
    "        )\n",
    "        return df\n",
    "\n",
    "\n",
    "df = MODELS.to_dict(orient=\"index\").values()\n",
    "df = pd.concat([get_tokenization_data(**kwargs) for kwargs in df])\n",
    "\n",
    "df.shape"
   ]
  },
  {
   "cell_type": "code",
   "execution_count": null,
   "metadata": {},
   "outputs": [],
   "source": [
    "df_hist = df[df[X] < X_MAX - 1].drop_duplicates([\"lemma\", HUE1])\n",
    "\n",
    "df_hist.to_pickle(\"resources/01_token_count_per_model_family.pkl\")\n",
    "\n",
    "g = sns.displot(\n",
    "    df_hist,\n",
    "    x=X,\n",
    "    hue=HUE1,\n",
    "    kind=\"hist\",\n",
    "    binwidth=1,\n",
    "    shrink=1,\n",
    "    palette=\"colorblind\",\n",
    "    multiple=\"dodge\",\n",
    "    height=5,\n",
    "    aspect=1.1,\n",
    "    facet_kws=dict(legend_out=False),\n",
    ")\n",
    "\n",
    "descriptive_stats = df.groupby(HUE1)[X].describe()\n",
    "\n",
    "# Extract colors used in the histogram\n",
    "palette = sns.color_palette(n_colors=len(descriptive_stats.index))\n",
    "model_families = descriptive_stats.index\n",
    "\n",
    "for color, model_family in zip(palette, model_families):\n",
    "    percentile_75 = descriptive_stats.loc[model_family, \"75%\"]\n",
    "\n",
    "    # Add dashed vertical line\n",
    "    g.ax.axvline(percentile_75, color=color, linestyle=\"--\", linewidth=2)\n",
    "\n",
    "dashed_line = mlines.Line2D(\n",
    "    [], [], color=\"black\", linestyle=\"--\", linewidth=1.5, label=\"75% Percentile\"\n",
    ")\n",
    "\n",
    "legend_data = {\n",
    "    model_family: plt.Line2D([], [], color=color, marker=\"o\", linestyle=\"\")\n",
    "    for model_family, color in zip(model_families, palette)\n",
    "}\n",
    "legend_data[\"75% Percentile\"] = dashed_line\n",
    "\n",
    "g.add_legend(legend_data=legend_data, title=HUE1)\n",
    "\n",
    "plt.xticks(range(1, X_MAX - 1))\n",
    "\n",
    "plt.savefig(\n",
    "    \"resources/01_token_count_per_model_family.png\", dpi=300, bbox_inches=\"tight\"\n",
    ")\n",
    "\n",
    "plt.show()"
   ]
  },
  {
   "cell_type": "code",
   "execution_count": null,
   "metadata": {},
   "outputs": [],
   "source": [
    "df_lineplot = (\n",
    "    df.drop_duplicates([\"lemma\", HUE2])\n",
    "    .groupby([\"lemma\", HUE2, X])[Y]\n",
    "    .mean()\n",
    "    .reset_index()\n",
    ")\n",
    "\n",
    "df_lineplot.to_pickle(\"resources/02_tokenization_natural_flag.pkl\")\n",
    "\n",
    "sns.lineplot(\n",
    "    df_lineplot,\n",
    "    x=X,\n",
    "    y=Y,\n",
    "    hue=HUE2,\n",
    "    style=HUE2,\n",
    "    markers=True,\n",
    "    dashes=False,\n",
    "    palette=\"colorblind\",\n",
    ")\n",
    "\n",
    "plt.xticks(range(1, X_MAX))\n",
    "\n",
    "plt.savefig(\"resources/02_tokenization_natural_flag.png\", dpi=300, bbox_inches=\"tight\")\n",
    "\n",
    "plt.show()"
   ]
  },
  {
   "cell_type": "markdown",
   "metadata": {},
   "source": []
  }
 ],
 "metadata": {
  "kernelspec": {
   "display_name": ".venv",
   "language": "python",
   "name": "python3"
  },
  "language_info": {
   "codemirror_mode": {
    "name": "ipython",
    "version": 3
   },
   "file_extension": ".py",
   "mimetype": "text/x-python",
   "name": "python",
   "nbconvert_exporter": "python",
   "pygments_lexer": "ipython3",
   "version": "3.11.10"
  }
 },
 "nbformat": 4,
 "nbformat_minor": 2
}
