{
 "cells": [
  {
   "cell_type": "markdown",
   "metadata": {},
   "source": [
    "## Qualitative Results\n",
    "\n",
    "Given an input and two concepts A and B, let's show a comparison of the default response, maximizing A, maximizing B, maximizing A - B, maximizing B - A."
   ]
  },
  {
   "cell_type": "code",
   "execution_count": 1,
   "metadata": {},
   "outputs": [
    {
     "name": "stderr",
     "output_type": "stream",
     "text": [
      "/home/pedro/Documents/frames/.venv/lib/python3.12/site-packages/deepeval/__init__.py:51: UserWarning: You are using deepeval version 2.1.6, however version 2.1.9 is available. You should consider upgrading via the \"pip install --upgrade deepeval\" command.\n",
      "  warnings.warn(\n"
     ]
    }
   ],
   "source": [
    "import torch\n",
    "from PIL import Image\n",
    "\n",
    "from frames.models import VisionLanguageHuggingFaceModel\n",
    "from frames.nlp.synsets import SupportedLanguages\n",
    "from frames.representations import FrameUnembeddingRepresentation\n",
    "from frames.utils.memory import garbage_collection_cuda\n",
    "\n",
    "garbage_collection_cuda()"
   ]
  },
  {
   "cell_type": "code",
   "execution_count": 2,
   "metadata": {},
   "outputs": [
    {
     "name": "stderr",
     "output_type": "stream",
     "text": [
      "The argument `trust_remote_code` is to be used with Auto classes. It has no effect here and is ignored.\n"
     ]
    },
    {
     "data": {
      "application/vnd.jupyter.widget-view+json": {
       "model_id": "290867aab7554530bfb8bb14ba8bed41",
       "version_major": 2,
       "version_minor": 0
      },
      "text/plain": [
       "Loading checkpoint shards:   0%|          | 0/5 [00:00<?, ?it/s]"
      ]
     },
     "metadata": {},
     "output_type": "display_data"
    },
    {
     "name": "stderr",
     "output_type": "stream",
     "text": [
      "\u001b[32m2025-01-21 08:40:37.007\u001b[0m | \u001b[1mINFO    \u001b[0m | \u001b[36mframes.models.hf.base\u001b[0m:\u001b[36m__init__\u001b[0m:\u001b[36m88\u001b[0m - \u001b[1mLoaded model: meta-llama/Llama-3.2-11B-Vision-Instruct\u001b[0m\n",
      "\u001b[32m2025-01-21 08:40:37.010\u001b[0m | \u001b[33m\u001b[1mWARNING \u001b[0m | \u001b[36mframes.models.hf.base\u001b[0m:\u001b[36m__init__\u001b[0m:\u001b[36m89\u001b[0m - \u001b[33m\u001b[1mmemory cost: 6701 Mb\u001b[0m\n"
     ]
    }
   ],
   "source": [
    "fur = FrameUnembeddingRepresentation.from_model_id(\n",
    "    id=\"meta-llama/Llama-3.2-11B-Vision-Instruct\",\n",
    "    model_cls=VisionLanguageHuggingFaceModel,\n",
    "    language_codes=SupportedLanguages.Default,\n",
    "    device_map=\"cuda:0\",\n",
    "    torch_dtype=torch.float16,\n",
    "    quantization=4,\n",
    ")"
   ]
  },
  {
   "cell_type": "code",
   "execution_count": 3,
   "metadata": {},
   "outputs": [
    {
     "data": {
      "text/plain": [
       "(224, 224)"
      ]
     },
     "execution_count": 3,
     "metadata": {},
     "output_type": "execute_result"
    }
   ],
   "source": [
    "image = Image.open(\"images/man.jpeg\").resize((224, 224))\n",
    "# WARNING: large images make the model ignore the instruction and take longer to run.\n",
    "image.size"
   ]
  },
  {
   "cell_type": "code",
   "execution_count": 4,
   "metadata": {},
   "outputs": [],
   "source": [
    "inputs = [\n",
    "    {\"image\": image, \"text\": \"What can this person occupation be? Enumerate 3 possibilities.\"},\n",
    "    {\"image\": image, \"text\": \"What can this person job be? Enumerate 3 possibilities.\"},\n",
    "]"
   ]
  },
  {
   "cell_type": "code",
   "execution_count": 5,
   "metadata": {},
   "outputs": [
    {
     "name": "stdout",
     "output_type": "stream",
     "text": [
      "<|begin_of_text|><|begin_of_text|><|start_header_id|>user<|end_header_id|>\n",
      "\n",
      "<|image|>What can this person occupation be? Enumerate 3 possibilities.<|eot_id|><|start_header_id|>assistant<|end_header_id|>\n",
      "\n",
      "Based on the image, it is difficult to determine the person's occupation with certainty. However, here are three possible occupations that the person could have:\n",
      "\n",
      "1. **Actor or Performer**: The person's hairstyle and attire suggest a creative field, and their smile could indicate a career in entertainment.\n",
      "2. **Artist or\n",
      "<|begin_of_text|><|begin_of_text|><|start_header_id|>user<|end_header_id|>\n",
      "\n",
      "<|image|>What can this person job be? Enumerate 3 possibilities.<|eot_id|><|start_header_id|>assistant<|end_header_id|>\n",
      "\n",
      "Based on the image, here are three possible jobs for this person:\n",
      "\n",
      "1. **Actor or Model**: The person's facial features and expression suggest they may have a career in the entertainment industry, possibly as an actor or model.\n",
      "2. **Photographer**: The person's hair and clothing style could indicate they work in\n"
     ]
    }
   ],
   "source": [
    "# original responses:\n",
    "for input in inputs:\n",
    "    out = fur.model.generate(\n",
    "        **input,\n",
    "        max_new_tokens=64,\n",
    "        top_k=None,\n",
    "        # return_output_sentences=True,\n",
    "        output_hidden_states=False,\n",
    "        do_sample=False,\n",
    "        temperature=None,\n",
    "        top_p=None,\n",
    "    )\n",
    "    print(fur.model.decode(out)[0])"
   ]
  },
  {
   "cell_type": "code",
   "execution_count": 6,
   "metadata": {},
   "outputs": [
    {
     "name": "stderr",
     "output_type": "stream",
     "text": [
      "100%|██████████| 2/2 [02:00<00:00, 60.23s/it]"
     ]
    },
    {
     "name": "stdout",
     "output_type": "stream",
     "text": [
      "<|begin_of_text|><|begin_of_text|><|start_header_id|>user<|end_header_id|>\n",
      "\n",
      "<|image|>What can this person occupation be? Enumerate 3 possibilities.<|eot_id|><|start_header_id|>assistant<|end_header_id|>\n",
      "\n",
      "Based solely off this person’s appearance in the picture it can't be known for sure but there could possibly  be a few possible occupations they might hold:\n",
      "\n",
      "1.) They might work in a creative field such as art.\n",
      "3. The could possibly work with children in an educational or childcare setting.\n",
      "3) The might work in\n",
      "<|begin_of_text|><|begin_of_text|><|start_header_id|>user<|end_header_id|>\n",
      "\n",
      "<|image|>What can this person job be? Enumerate 3 possibilities.<|eot_id|><|start_header_id|>assistant<|end_header_id|>\n",
      "\n",
      "Based solely on this image and the context provided in the prompt that generated it:\n",
      "\n",
      "1. The person in the picture might work in a creative field such such as graphic arts or design. The hair and shirt are messy and casual and the image quality suggests a relaxed atmosphere. \n",
      "\n",
      "2.The image might also be used as part of\n"
     ]
    },
    {
     "name": "stderr",
     "output_type": "stream",
     "text": [
      "\n"
     ]
    }
   ],
   "source": [
    "result = fur.quick_generate_with_topk_guide(\n",
    "    inputs,\n",
    "    guide=[\"black.n.01\", \"white.n.01\"],\n",
    "    min_lemmas_per_synset=3,\n",
    "    max_token_count=3,\n",
    "    k=3,\n",
    "    steps=64,\n",
    "    batch_size=1,\n",
    ")\n",
    "\n",
    "for r in result[0]:\n",
    "    print(r)"
   ]
  },
  {
   "cell_type": "code",
   "execution_count": 7,
   "metadata": {},
   "outputs": [
    {
     "name": "stderr",
     "output_type": "stream",
     "text": [
      "100%|██████████| 2/2 [02:03<00:00, 61.99s/it]"
     ]
    },
    {
     "name": "stdout",
     "output_type": "stream",
     "text": [
      "<|begin_of_text|><|begin_of_text|><|start_header_id|>user<|end_header_id|>\n",
      "\n",
      "<|image|>What can this person occupation be? Enumerate 3 possibilities.<|eot_id|><|start_header_id|>assistant<|end_header_id|>\n",
      "\n",
      "The individual depicted is a male of a certain, but not clearly defined, occupation, as evidenced in this photo of a man. Here is what the man's profession could have be:\n",
      "- A student, as he is likely a young man, possibly a student at a university or a college, as evidenced in the photo.\n",
      "\n",
      "<|begin_of_text|><|begin_of_text|><|start_header_id|>user<|end_header_id|>\n",
      "\n",
      "<|image|>What can this person job be? Enumerate 3 possibilities.<|eot_id|><|start_header_id|>assistant<|end_header_id|>\n",
      "\n",
      "The individual depicted is a male, likely a young or adult male in the 30's, as evidenced in his facial structure. He is likely a professional or a person with some form of employment or a business, as he appears to be in an office or a similar environment, as evidenced from a background of a beige wall\n"
     ]
    },
    {
     "name": "stderr",
     "output_type": "stream",
     "text": [
      "\n"
     ]
    }
   ],
   "source": [
    "result = fur.quick_generate_with_topk_guide(\n",
    "    inputs,\n",
    "    guide=[\"white.n.01\", \"black.n.01\"],\n",
    "    min_lemmas_per_synset=3,\n",
    "    max_token_count=3,\n",
    "    k=3,\n",
    "    steps=64,\n",
    "    batch_size=1,\n",
    ")\n",
    "\n",
    "for r in result[0]:\n",
    "    print(r)"
   ]
  }
 ],
 "metadata": {
  "kernelspec": {
   "display_name": ".venv",
   "language": "python",
   "name": "python3"
  },
  "language_info": {
   "codemirror_mode": {
    "name": "ipython",
    "version": 3
   },
   "file_extension": ".py",
   "mimetype": "text/x-python",
   "name": "python",
   "nbconvert_exporter": "python",
   "pygments_lexer": "ipython3",
   "version": "3.11.10"
  }
 },
 "nbformat": 4,
 "nbformat_minor": 2
}
