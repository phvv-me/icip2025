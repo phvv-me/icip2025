{
 "cells": [
  {
   "cell_type": "code",
   "execution_count": 1,
   "metadata": {},
   "outputs": [
    {
     "name": "stderr",
     "output_type": "stream",
     "text": [
      "/home/pedro/Documents/flag-representation-hypothesis/.venv/lib/python3.11/site-packages/tqdm/auto.py:21: TqdmWarning: IProgress not found. Please update jupyter and ipywidgets. See https://ipywidgets.readthedocs.io/en/stable/user_install.html\n",
      "  from .autonotebook import tqdm as notebook_tqdm\n"
     ]
    }
   ],
   "source": [
    "import pandas as pd\n",
    "import torch\n",
    "\n",
    "from flags.lrh import FlagUnembeddingRepresentation\n",
    "from flags.utils.memory import gc_cuda\n",
    "from flags.utils.plotting import histplot_and_save"
   ]
  },
  {
   "cell_type": "code",
   "execution_count": 2,
   "metadata": {},
   "outputs": [],
   "source": [
    "MODEL_IDS = {\n",
    "    # model family | model ids\n",
    "    # Llama 3.1\n",
    "    \"Llama 3.1 70B (Base x Instruct)\": (\n",
    "        \"hugging-quants/Meta-Llama-3.1-70B-BNB-NF4-BF16\",\n",
    "        \"hugging-quants/Meta-Llama-3.1-70B-Instruct-AWQ-INT4\",\n",
    "    ),\n",
    "    \"Llama 3.1 8B (Base x Instruct)\": (\n",
    "        \"meta-llama/Meta-Llama-3.1-8B\",\n",
    "        \"meta-llama/Meta-Llama-3.1-8B-Instruct\",\n",
    "    ),\n",
    "    # Gemma 2\n",
    "    \"Gemma 2 27B (Base x Instruct)\": (\"google/gemma-2-27b\", \"google/gemma-2-27b-it\"),\n",
    "    \"Gemma 2 9B (Base x Instruct)\": (\"google/gemma-2-9b\", \"google/gemma-2-9b-it\"),\n",
    "}\n",
    "\n",
    "LEMMA_COUNT = 3  # {\"gemma\": 25, \"llama\": 55}\n",
    "FLAG_RANK = 3\n",
    "\n",
    "VALUE = \"Similarity\"\n",
    "HUE = \"Model Family\""
   ]
  },
  {
   "cell_type": "code",
   "execution_count": 3,
   "metadata": {},
   "outputs": [],
   "source": [
    "def get_concepts(model_id):\n",
    "    with gc_cuda():\n",
    "        return FlagUnembeddingRepresentation.from_model_id(\n",
    "            model_id, torch_dtype=torch.bfloat16\n",
    "        ).get_all_concepts(min_lemmas_per_synset=LEMMA_COUNT, max_token_count=FLAG_RANK)\n",
    "\n",
    "\n",
    "def get_similarities(id1, id2):\n",
    "    return get_concepts(id1).similarity(get_concepts(id2)).float().cpu()\n",
    "\n",
    "\n",
    "df = pd.concat(\n",
    "    [\n",
    "        pd.DataFrame({model_family: get_similarities(*model_ids)}).melt(\n",
    "            var_name=HUE, value_name=VALUE\n",
    "        )\n",
    "        for model_family, model_ids in MODEL_IDS.items()\n",
    "    ]\n",
    ")\n",
    "\n",
    "histplot_and_save(\"06_model_family_concept_space_comparison\", df, VALUE, HUE)"
   ]
  }
 ],
 "metadata": {
  "kernelspec": {
   "display_name": "Python 3",
   "language": "python",
   "name": "python3"
  },
  "language_info": {
   "codemirror_mode": {
    "name": "ipython",
    "version": 3
   },
   "file_extension": ".py",
   "mimetype": "text/x-python",
   "name": "python",
   "nbconvert_exporter": "python",
   "pygments_lexer": "ipython3",
   "version": "3.11.10"
  }
 },
 "nbformat": 4,
 "nbformat_minor": 2
}
