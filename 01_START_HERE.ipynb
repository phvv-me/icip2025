{
 "cells": [
  {
   "cell_type": "markdown",
   "metadata": {},
   "source": [
    "# Environment Setup\n",
    "Sets up the environment variable for Hugging Face file transfer protocol. \n",
    "\n",
    "This ensures efficient model downloads using the newer transfer protocol."
   ]
  },
  {
   "cell_type": "code",
   "execution_count": 1,
   "metadata": {},
   "outputs": [],
   "source": [
    "# Environment Setup\n",
    "\n",
    "# Import the os module to interact with the operating system\n",
    "import os\n",
    "\n",
    "# Set the environment variable to enable Hugging Face file transfer protocol\n",
    "os.environ[\"HF_HUB_ENABLE_HF_TRANSFER\"] = \"1\""
   ]
  },
  {
   "cell_type": "markdown",
   "metadata": {},
   "source": [
    "# Model Download\n",
    "\n",
    "Imports and uses the custom utility function to load model configurations from settings. \n",
    "\n",
    "This determines which models need to be downloaded."
   ]
  },
  {
   "cell_type": "code",
   "execution_count": null,
   "metadata": {},
   "outputs": [
    {
     "name": "stdout",
     "output_type": "stream",
     "text": [
      "Running download for: hugging-quants/Meta-Llama-3.1-70B-BNB-NF4-BF16\n",
      "/home/pedro/.cache/huggingface/hub/models--hugging-quants--Meta-Llama-3.1-70B-BNB-NF4-BF16/snapshots/befe3578a6bdfc80cc702b69706c10e41659be45\n",
      "Running download for: hugging-quants/Meta-Llama-3.1-70B-Instruct-AWQ-INT4\n"
     ]
    },
    {
     "name": "stderr",
     "output_type": "stream",
     "text": [
      "Removing incomplete file '/home/pedro/.cache/huggingface/hub/models--hugging-quants--Meta-Llama-3.1-70B-Instruct-AWQ-INT4/blobs/f1e5572d6b0bb1a5bf71cce73c069cffa03dd0d1fbe38bb2b85056e50dd76476.incomplete' (hf_transfer=True)\n",
      "Downloading 'model-00001-of-00009.safetensors' to '/home/pedro/.cache/huggingface/hub/models--hugging-quants--Meta-Llama-3.1-70B-Instruct-AWQ-INT4/blobs/f1e5572d6b0bb1a5bf71cce73c069cffa03dd0d1fbe38bb2b85056e50dd76476.incomplete'\n"
     ]
    }
   ],
   "source": [
    "# Model Configuration Loading\n",
    "\n",
    "# Import the custom utility function to load model configurations\n",
    "from frames.utils.settings import load_models\n",
    "\n",
    "# Load the model configurations\n",
    "model_configs = load_models()\n",
    "\n",
    "# Iterate through the model IDs and print the download message for each model\n",
    "for model_id in model_configs[\"id\"]:\n",
    "    print(f\"Running download for: {model_id}\")\n",
    "    # Use the Hugging Face CLI to download the model, excluding files with the .gguf extension\n",
    "    os.system(f\"huggingface-cli download {model_id} --exclude=*.gguf\")"
   ]
  },
  {
   "cell_type": "markdown",
   "metadata": {},
   "source": [
    "## NLTK Download\n",
    "\n",
    "Downloads all of NLTK for offline usage"
   ]
  },
  {
   "cell_type": "code",
   "execution_count": null,
   "metadata": {},
   "outputs": [],
   "source": [
    "!python -m nltk.downloader all"
   ]
  },
  {
   "cell_type": "markdown",
   "metadata": {},
   "source": [
    "## TikToken tokenizer offline issue fix"
   ]
  },
  {
   "cell_type": "code",
   "execution_count": null,
   "metadata": {},
   "outputs": [],
   "source": [
    "import hashlib\n",
    "\n",
    "import requests\n",
    "\n",
    "# Define the blob URL and blob path\n",
    "blob_url = \"https://openaipublic.blob.core.windows.net/encodings/cl100k_base.tiktoken\"\n",
    "\n",
    "# Compute the SHA-1 hash of the blob path\n",
    "hash_filename = hashlib.sha1(blob_url.encode()).hexdigest()\n",
    "\n",
    "# Define the target directory using pathlib\n",
    "target_dir = os.environ[\"TIKTOKEN_CACHE_DIR\"]\n",
    "target_dir.mkdir(parents=True, exist_ok=True)\n",
    "\n",
    "# Full path to save the file\n",
    "file_path = target_dir / hash_filename\n",
    "\n",
    "# Download the file\n",
    "response = requests.get(blob_url)\n",
    "response.raise_for_status()  # Ensure the download was successful\n",
    "\n",
    "# Save the file\n",
    "file_path.write_bytes(response.content)\n",
    "\n",
    "print(f\"File downloaded and saved to {file_path}\")"
   ]
  },
  {
   "cell_type": "code",
   "execution_count": null,
   "metadata": {},
   "outputs": [],
   "source": [
    "import tiktoken\n",
    "\n",
    "tiktoken.get_encoding(\"cl100k_base\")"
   ]
  }
 ],
 "metadata": {
  "kernelspec": {
   "display_name": ".venv",
   "language": "python",
   "name": "python3"
  },
  "language_info": {
   "codemirror_mode": {
    "name": "ipython",
    "version": 3
   },
   "file_extension": ".py",
   "mimetype": "text/x-python",
   "name": "python",
   "nbconvert_exporter": "python",
   "pygments_lexer": "ipython3",
   "version": "3.11.10"
  }
 },
 "nbformat": 4,
 "nbformat_minor": 2
}
