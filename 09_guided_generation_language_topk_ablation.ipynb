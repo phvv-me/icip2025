{
 "cells": [
  {
   "cell_type": "markdown",
   "metadata": {},
   "source": [
    "## Ablation of top-k Guided Generation. Study of \"language\" and \"k\" influence.\n",
    "\n",
    "We analyze how the different languages are affected by Concept Guided Generation for different levels of \"k\"."
   ]
  },
  {
   "cell_type": "code",
   "execution_count": null,
   "metadata": {},
   "outputs": [],
   "source": [
    "import matplotlib.pyplot as plt\n",
    "import pandas as pd\n",
    "import seaborn as sns\n",
    "\n",
    "from frames.nlp.datasets import load_multilingual_question_dataset\n",
    "from frames.representations import FrameUnembeddingRepresentation\n",
    "from frames.utils.plotting import lineplot_and_save"
   ]
  },
  {
   "cell_type": "code",
   "execution_count": null,
   "metadata": {},
   "outputs": [],
   "source": [
    "# parameters\n",
    "MODEL_ID = \"meta-llama/Meta-Llama-3.1-8B-Instruct\"  # \"hugging-quants/Meta-Llama-3.1-70B-Instruct-AWQ-INT4\"\n",
    "N = 1 << 8\n",
    "STEPS = 1 << 4\n",
    "BATCH_SIZE = 1 << 5\n",
    "\n",
    "GUIDE = (\"woman.n.01\", \"male.n.01\")\n",
    "\n",
    "X = \"Guidance Level\"\n",
    "Y = \"Concept Relative Projection (Guided - Unguided)\"\n",
    "HUE = \"language\"\n",
    "\n",
    "TOPK_ABLATION_K = list(range(7, 0, -1))"
   ]
  },
  {
   "cell_type": "code",
   "execution_count": null,
   "metadata": {},
   "outputs": [],
   "source": [
    "fur = FrameUnembeddingRepresentation.from_model_id(MODEL_ID)\n",
    "print(\"memory cost: \", fur.model.memory_footprint >> 20, \"Mb\")"
   ]
  },
  {
   "cell_type": "code",
   "execution_count": null,
   "metadata": {},
   "outputs": [],
   "source": [
    "dataset = load_multilingual_question_dataset(fur.data.languages).iloc[:N]\n",
    "samples, langs = dataset.shape\n",
    "print(\"Loaded dataset with\", samples, \"samples and\", langs, \"languages\")"
   ]
  },
  {
   "cell_type": "code",
   "execution_count": null,
   "metadata": {},
   "outputs": [],
   "source": [
    "def gen_guided_probe(inputs, k):\n",
    "    _, probe = fur.quick_generate_with_topk_guide(\n",
    "        inputs,\n",
    "        guide=GUIDE,\n",
    "        k=k,\n",
    "        steps=STEPS,\n",
    "        batch_size=BATCH_SIZE,\n",
    "        min_lemmas_per_synset=3,\n",
    "        max_token_count=3,\n",
    "    )\n",
    "    return pd.DataFrame(probe.float()).melt(var_name=X, value_name=Y)"
   ]
  },
  {
   "cell_type": "code",
   "execution_count": null,
   "metadata": {},
   "outputs": [],
   "source": [
    "df = pd.concat(\n",
    "    [\n",
    "        gen_guided_probe(dataset[lang].tolist(), k=k).assign(**{HUE: lang, X: k})\n",
    "        for lang in dataset.columns\n",
    "        for k in TOPK_ABLATION_K\n",
    "    ]\n",
    ")\n",
    "\n",
    "lineplot_and_save(\"09_guided_generation_language_topk_ablation\", df, x=X, y=Y, hue=HUE)"
   ]
  },
  {
   "cell_type": "code",
   "execution_count": null,
   "metadata": {},
   "outputs": [],
   "source": [
    "values = df[df[X] == 1].groupby(HUE)[Y].mean()\n",
    "df[Y] = df.apply(lambda row: row[Y] - values[row[HUE]], axis=1)\n",
    "\n",
    "sns.set_style(\"whitegrid\")\n",
    "sns.set_context(\"paper\", font_scale=1.5)\n",
    "\n",
    "plt.figure(figsize=(5, 7))\n",
    "\n",
    "sns.lineplot(\n",
    "    df,\n",
    "    x=X,\n",
    "    y=Y,\n",
    "    hue=HUE,\n",
    "    style=HUE,\n",
    "    markers=True,\n",
    "    dashes=False,\n",
    "    errorbar=(\"ci\", 10),\n",
    "    palette=\"colorblind\",\n",
    "    linewidth=2,\n",
    ")\n",
    "# plt.yscale(\"symlog\")\n",
    "plt.xlim(1, 5)\n",
    "plt.xticks(TOPK_ABLATION_K)\n",
    "plt.yticks(range(0, 11))\n",
    "\n",
    "# lineplot_and_save(\"11_guided_generation_language_topk_ablation\", df, x=X, y=Y, hue=HUE)"
   ]
  },
  {
   "cell_type": "code",
   "execution_count": null,
   "metadata": {},
   "outputs": [],
   "source": [
    "plt.yscale(\"symlog\")\n",
    "lineplot_and_save(\"09_guided_generation_language_topk_ablation\", df, x=X, y=Y, hue=HUE)"
   ]
  }
 ],
 "metadata": {
  "kernelspec": {
   "display_name": ".venv",
   "language": "python",
   "name": "python3"
  },
  "language_info": {
   "codemirror_mode": {
    "name": "ipython",
    "version": 3
   },
   "file_extension": ".py",
   "mimetype": "text/x-python",
   "name": "python",
   "nbconvert_exporter": "python",
   "pygments_lexer": "ipython3",
   "version": "3.11.6"
  }
 },
 "nbformat": 4,
 "nbformat_minor": 2
}
