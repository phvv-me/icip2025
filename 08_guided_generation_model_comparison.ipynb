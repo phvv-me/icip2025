{
 "cells": [
  {
   "cell_type": "code",
   "execution_count": 1,
   "metadata": {},
   "outputs": [
    {
     "name": "stderr",
     "output_type": "stream",
     "text": [
      "/home/pedro/Documents/flag-representation-hypothesis/.venv/lib/python3.11/site-packages/tqdm/auto.py:21: TqdmWarning: IProgress not found. Please update jupyter and ipywidgets. See https://ipywidgets.readthedocs.io/en/stable/user_install.html\n",
      "  from .autonotebook import tqdm as notebook_tqdm\n"
     ]
    }
   ],
   "source": [
    "import torch\n",
    "\n",
    "from flags.lrh import FlagUnembeddingRepresentation\n",
    "from flags.nlp.datasets import load_multilingual_question_dataset\n",
    "from flags.utils.memory import gc_cuda\n",
    "from flags.utils.plotting import lineplot_and_save\n",
    "from flags.utils.settings import load_models"
   ]
  },
  {
   "cell_type": "code",
   "execution_count": 4,
   "metadata": {},
   "outputs": [],
   "source": [
    "MODELS = load_models()\n",
    "\n",
    "N = 1 << 8\n",
    "STEPS = 1 << 4\n",
    "BATCH_SIZE = 1 << 4\n",
    "GUIDE = (\"woman.n.01\", \"male.n.01\")\n",
    "\n",
    "X = \"Parameter Count (1e9)\"\n",
    "Y = \"Concept Relative Projection (Guided - Unguided)\"\n",
    "HUE = \"family\"\n",
    "\n",
    "LEMMA_COUNT = 3\n",
    "TOKEN_COUNT = 3\n",
    "\n",
    "MODEL_ABLATION_K = 3"
   ]
  },
  {
   "cell_type": "code",
   "execution_count": null,
   "metadata": {},
   "outputs": [],
   "source": [
    "dataset = load_multilingual_question_dataset((\"English\",)).iloc[:N].values.flatten()\n",
    "\n",
    "print(\"Loaded English dataset with\", len(dataset), \"samples\")"
   ]
  },
  {
   "cell_type": "code",
   "execution_count": null,
   "metadata": {},
   "outputs": [],
   "source": [
    "def get_relative_concept_projection(model_kwargs, k, *args, **kwargs):\n",
    "    d = torch.bfloat16 if \"gemma-2-9b\" in model_kwargs[\"id\"] else \"auto\"\n",
    "    fur = FlagUnembeddingRepresentation.from_model_id(**model_kwargs, torch_dtype=d)\n",
    "    guided = fur.quick_generate_with_topk_guide(*args, k=k, **kwargs)[1][:, -1]\n",
    "    unguided = fur.quick_generate_with_topk_guide(*args, k=1, **kwargs)[1][:, -1]\n",
    "\n",
    "    relative_projection = guided - unguided\n",
    "    relative_projection = relative_projection.float().cpu().numpy()\n",
    "\n",
    "    param_count = fur.model.parameter_count_string.removesuffix(\"B\")\n",
    "\n",
    "    return relative_projection, param_count\n",
    "\n",
    "\n",
    "def get(model_kwargs):\n",
    "    with gc_cuda():\n",
    "        return get_relative_concept_projection(\n",
    "            model_kwargs=model_kwargs,\n",
    "            sentences=dataset,\n",
    "            k=MODEL_ABLATION_K,\n",
    "            steps=STEPS,\n",
    "            batch_size=BATCH_SIZE,\n",
    "            guide=GUIDE,\n",
    "            min_lemmas_per_synset=LEMMA_COUNT,\n",
    "            max_token_count=TOKEN_COUNT,\n",
    "        )"
   ]
  },
  {
   "cell_type": "code",
   "execution_count": null,
   "metadata": {},
   "outputs": [],
   "source": [
    "data = MODELS.apply(get, axis=1)\n",
    "MODELS[Y] = data.apply(lambda x: x[0])\n",
    "MODELS[X] = data.apply(lambda x: int(x[1]))\n",
    "\n",
    "df = MODELS.explode(Y).dropna()\n",
    "\n",
    "lineplot_and_save(\"10_guided_generation_model_comparison\", df, x=X, y=Y, hue=HUE)"
   ]
  }
 ],
 "metadata": {
  "kernelspec": {
   "display_name": "Python 3",
   "language": "python",
   "name": "python3"
  },
  "language_info": {
   "codemirror_mode": {
    "name": "ipython",
    "version": 3
   },
   "file_extension": ".py",
   "mimetype": "text/x-python",
   "name": "python",
   "nbconvert_exporter": "python",
   "pygments_lexer": "ipython3",
   "version": "3.11.10"
  }
 },
 "nbformat": 4,
 "nbformat_minor": 2
}
